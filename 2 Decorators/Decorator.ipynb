{
 "cells": [
  {
   "cell_type": "markdown",
   "metadata": {},
   "source": [
    "# Decorators \n",
    "1. Decorators has function as input\n",
    "2. Decorator will modify behaviour of input function\n",
    "3. Output function of decorator is called as wrapper"
   ]
  },
  {
   "cell_type": "markdown",
   "metadata": {},
   "source": [
    "### Write a decorator function which Welcomes the user and thanks the user and end of the code"
   ]
  },
  {
   "cell_type": "code",
   "execution_count": 1,
   "metadata": {},
   "outputs": [],
   "source": [
    "def welcome(func):\n",
    "    \n",
    "    def wrapper(*args, **kwargs):\n",
    "        print(\"Welcome User!\")\n",
    "        res = func(*args, **kwargs)\n",
    "        print(f\"Output of Function : {res}\")\n",
    "        print(\"Thank you for using this function\")\n",
    "        return res\n",
    "    \n",
    "    return wrapper"
   ]
  },
  {
   "cell_type": "code",
   "execution_count": 4,
   "metadata": {},
   "outputs": [],
   "source": [
    "@welcome\n",
    "def simple_intrest(p, n, r):\n",
    "    i = (p*n*r)/100\n",
    "    amt = p + i\n",
    "    return i, amt"
   ]
  },
  {
   "cell_type": "code",
   "execution_count": 8,
   "metadata": {},
   "outputs": [
    {
     "name": "stdout",
     "output_type": "stream",
     "text": [
      "Welcome User!\n",
      "Output of Function : (10650.0, 60650.0)\n",
      "Thank you for using this function\n"
     ]
    }
   ],
   "source": [
    "r1 = simple_intrest(p=50000, n=3, r=7.1)"
   ]
  },
  {
   "cell_type": "code",
   "execution_count": 9,
   "metadata": {},
   "outputs": [
    {
     "data": {
      "text/plain": [
       "(10650.0, 60650.0)"
      ]
     },
     "execution_count": 9,
     "metadata": {},
     "output_type": "execute_result"
    }
   ],
   "source": [
    "r1"
   ]
  },
  {
   "cell_type": "code",
   "execution_count": 10,
   "metadata": {},
   "outputs": [
    {
     "name": "stdout",
     "output_type": "stream",
     "text": [
      "Welcome User!\n",
      "Output of Function : (23725.0, 96725.0)\n",
      "Thank you for using this function\n"
     ]
    }
   ],
   "source": [
    "r2 = simple_intrest(p=73000, n=5, r=6.5)"
   ]
  },
  {
   "cell_type": "code",
   "execution_count": 12,
   "metadata": {},
   "outputs": [
    {
     "name": "stdout",
     "output_type": "stream",
     "text": [
      "Welcome User!\n",
      "Output of Function : (3015.0, 18015.0)\n",
      "Thank you for using this function\n"
     ]
    }
   ],
   "source": [
    "r3 = simple_intrest(15000, 3, 6.7)"
   ]
  },
  {
   "cell_type": "code",
   "execution_count": 13,
   "metadata": {},
   "outputs": [],
   "source": [
    "@welcome\n",
    "def hypotenuse(a, b):\n",
    "    hyp = (a**2 + b**2)**(1/2)\n",
    "    return hyp"
   ]
  },
  {
   "cell_type": "code",
   "execution_count": 15,
   "metadata": {},
   "outputs": [
    {
     "name": "stdout",
     "output_type": "stream",
     "text": [
      "Welcome User!\n",
      "Output of Function : 5.0\n",
      "Thank you for using this function\n"
     ]
    }
   ],
   "source": [
    "h1 = hypotenuse(3, 4)"
   ]
  },
  {
   "cell_type": "code",
   "execution_count": 16,
   "metadata": {},
   "outputs": [
    {
     "data": {
      "text/plain": [
       "5.0"
      ]
     },
     "execution_count": 16,
     "metadata": {},
     "output_type": "execute_result"
    }
   ],
   "source": [
    "h1"
   ]
  },
  {
   "cell_type": "code",
   "execution_count": 17,
   "metadata": {},
   "outputs": [
    {
     "name": "stdout",
     "output_type": "stream",
     "text": [
      "Welcome User!\n",
      "Output of Function : 17.69180601295413\n",
      "Thank you for using this function\n"
     ]
    }
   ],
   "source": [
    "h2 = hypotenuse(a=12, b=13)"
   ]
  },
  {
   "cell_type": "code",
   "execution_count": 18,
   "metadata": {},
   "outputs": [
    {
     "data": {
      "text/plain": [
       "17.69180601295413"
      ]
     },
     "execution_count": 18,
     "metadata": {},
     "output_type": "execute_result"
    }
   ],
   "source": [
    "h2"
   ]
  },
  {
   "cell_type": "code",
   "execution_count": null,
   "metadata": {},
   "outputs": [],
   "source": []
  }
 ],
 "metadata": {
  "kernelspec": {
   "display_name": "venv",
   "language": "python",
   "name": "python3"
  },
  "language_info": {
   "codemirror_mode": {
    "name": "ipython",
    "version": 3
   },
   "file_extension": ".py",
   "mimetype": "text/x-python",
   "name": "python",
   "nbconvert_exporter": "python",
   "pygments_lexer": "ipython3",
   "version": "3.12.1"
  }
 },
 "nbformat": 4,
 "nbformat_minor": 2
}
